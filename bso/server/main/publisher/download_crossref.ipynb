{
 "cells": [
  {
   "cell_type": "code",
   "execution_count": 7,
   "id": "15208e61",
   "metadata": {},
   "outputs": [],
   "source": [
    "import requests\n",
    "import json\n",
    "import pandas as pd"
   ]
  },
  {
   "cell_type": "code",
   "execution_count": 8,
   "id": "e4ec8aab",
   "metadata": {},
   "outputs": [],
   "source": [
    "url = \"https://doi.crossref.org/getPrefixPublisher/**\"\n",
    "data = requests.get(url).json()"
   ]
  },
  {
   "cell_type": "code",
   "execution_count": 14,
   "id": "534241b3",
   "metadata": {},
   "outputs": [],
   "source": [
    "res = []\n",
    "for elt in data:\n",
    "    for doi_prefix in list(set(elt['prefixes'])):\n",
    "        publisher = elt['name']\n",
    "        res.append({'doi_prefix': doi_prefix.strip(), 'publisher': publisher.strip()})\n",
    "df = pd.DataFrame(res)"
   ]
  },
  {
   "cell_type": "code",
   "execution_count": 15,
   "id": "6f9c29ca",
   "metadata": {},
   "outputs": [],
   "source": [
    "df.to_csv('publisher_doi.csv', index=False)"
   ]
  }
 ],
 "metadata": {
  "kernelspec": {
   "display_name": "Python 3",
   "language": "python",
   "name": "python3"
  },
  "language_info": {
   "codemirror_mode": {
    "name": "ipython",
    "version": 3
   },
   "file_extension": ".py",
   "mimetype": "text/x-python",
   "name": "python",
   "nbconvert_exporter": "python",
   "pygments_lexer": "ipython3",
   "version": "3.9.1"
  }
 },
 "nbformat": 4,
 "nbformat_minor": 5
}
